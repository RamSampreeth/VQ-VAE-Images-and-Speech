{
 "cells": [
  {
   "cell_type": "code",
   "execution_count": 1,
   "metadata": {},
   "outputs": [],
   "source": [
    "import os\n",
    "import zipfile\n",
    "import shutil\n",
    "import random\n",
    "from pathlib import Path"
   ]
  },
  {
   "cell_type": "code",
   "execution_count": 2,
   "metadata": {},
   "outputs": [],
   "source": [
    "# ==== CONFIG ====\n",
    "ZIP_PATH = \"l2arctic_release_v5.0.zip\"  # ← Change this to your zip file location\n",
    "OUTPUT_DIR = \"L2_ARCTIC_SUBSET\"  # ← Folder to create your reduced dataset\n",
    "SELECTED_SPEAKERS = [\"HJK\", \"BWC\", \"YBAA\", \"SVBI\",\"THV\"]  # Choose any 4 speakers you want\n",
    "MAX_FILES_PER_SPK = 500\n",
    "SEED = 42\n"
   ]
  },
  {
   "cell_type": "code",
   "execution_count": 3,
   "metadata": {},
   "outputs": [
    {
     "name": "stdout",
     "output_type": "stream",
     "text": [
      "✅ Full dataset extracted to: temp_l2arctic_extract\n"
     ]
    }
   ],
   "source": [
    "# ==== STEP 1: EXTRACT THE MAIN ZIP FILE TO TEMP ==== \n",
    "extract_path = \"temp_l2arctic_extract\"\n",
    "if not os.path.exists(extract_path):\n",
    "    with zipfile.ZipFile(ZIP_PATH, 'r') as zip_ref:\n",
    "        zip_ref.extractall(extract_path)\n",
    "print(\"✅ Full dataset extracted to:\", extract_path)"
   ]
  },
  {
   "cell_type": "code",
   "execution_count": 4,
   "metadata": {},
   "outputs": [
    {
     "name": "stdout",
     "output_type": "stream",
     "text": [
      "✅ Extracted HJK's zip to: temp_l2arctic_extract\\HJK\n",
      "✅ Copied 500 files for speaker HJK\n",
      "✅ Extracted BWC's zip to: temp_l2arctic_extract\\BWC\n",
      "✅ Copied 500 files for speaker BWC\n",
      "✅ Extracted YBAA's zip to: temp_l2arctic_extract\\YBAA\n",
      "✅ Copied 500 files for speaker YBAA\n",
      "✅ Extracted SVBI's zip to: temp_l2arctic_extract\\SVBI\n",
      "✅ Copied 500 files for speaker SVBI\n",
      "✅ Extracted THV's zip to: temp_l2arctic_extract\\THV\n",
      "✅ Copied 500 files for speaker THV\n",
      "🎉 Reduced dataset ready at: L2_ARCTIC_SUBSET\n",
      "🗑️ Temporary extraction cleaned up.\n"
     ]
    }
   ],
   "source": [
    "# ==== STEP 2: EXTRACT SPEAKER ZIPS AND SAMPLE WAV FILES ==== \n",
    "random.seed(SEED)\n",
    "os.makedirs(OUTPUT_DIR, exist_ok=True)\n",
    "\n",
    "for speaker in SELECTED_SPEAKERS:\n",
    "    speaker_zip_path = os.path.join(extract_path, f\"{speaker}.zip\")  # Path to the speaker's zip\n",
    "    if os.path.exists(speaker_zip_path):\n",
    "        # Extract speaker's zip\n",
    "        speaker_extract_path = os.path.join(extract_path, speaker)\n",
    "        if not os.path.exists(speaker_extract_path):\n",
    "            with zipfile.ZipFile(speaker_zip_path, 'r') as zip_ref:\n",
    "                zip_ref.extractall(speaker_extract_path)\n",
    "        print(f\"✅ Extracted {speaker}'s zip to: {speaker_extract_path}\")\n",
    "\n",
    "        # Now navigate to the WAV directory inside the speaker's subfolder\n",
    "        speaker_folder_path = os.path.join(speaker_extract_path, speaker)  # Speaker's subfolder (e.g., HJK)\n",
    "        src_wav_dir = os.path.join(speaker_folder_path, \"wav\")\n",
    "        \n",
    "        if not os.path.exists(src_wav_dir):\n",
    "            print(f\"⚠️ WAV folder not found for speaker {speaker}!\")\n",
    "            continue\n",
    "        \n",
    "        target_wav_dir = os.path.join(OUTPUT_DIR, speaker, \"wav\")\n",
    "        os.makedirs(target_wav_dir, exist_ok=True)\n",
    "\n",
    "        # List all WAV files and sample them\n",
    "        all_wavs = [f for f in os.listdir(src_wav_dir) if f.endswith(\".wav\")]\n",
    "        sampled_wavs = random.sample(all_wavs, min(MAX_FILES_PER_SPK, len(all_wavs)))\n",
    "\n",
    "        # Copy the sampled files to the output directory\n",
    "        for wav in sampled_wavs:\n",
    "            shutil.copy2(os.path.join(src_wav_dir, wav), os.path.join(target_wav_dir, wav))\n",
    "\n",
    "        print(f\"✅ Copied {len(sampled_wavs)} files for speaker {speaker}\")\n",
    "    else:\n",
    "        print(f\"⚠️ Speaker {speaker} zip not found!\")\n",
    "\n",
    "print(\"🎉 Reduced dataset ready at:\", OUTPUT_DIR)\n",
    "\n",
    "# (Optional) Clean up temporary extraction\n",
    "shutil.rmtree(extract_path)\n",
    "print(\"🗑️ Temporary extraction cleaned up.\")"
   ]
  }
 ],
 "metadata": {
  "kernelspec": {
   "display_name": "myenv",
   "language": "python",
   "name": "python3"
  },
  "language_info": {
   "codemirror_mode": {
    "name": "ipython",
    "version": 3
   },
   "file_extension": ".py",
   "mimetype": "text/x-python",
   "name": "python",
   "nbconvert_exporter": "python",
   "pygments_lexer": "ipython3",
   "version": "3.10.13"
  }
 },
 "nbformat": 4,
 "nbformat_minor": 2
}
